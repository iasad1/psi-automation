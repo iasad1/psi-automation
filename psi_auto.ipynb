{
 "cells": [
  {
   "cell_type": "markdown",
   "metadata": {
    "colab_type": "text",
    "id": "view-in-github"
   },
   "source": [
    "<a href=\"https://colab.research.google.com/github/iasad1/psi-automation/blob/main/psi_auto.ipynb\" target=\"_parent\"><img src=\"https://colab.research.google.com/assets/colab-badge.svg\" alt=\"Open In Colab\"/></a>"
   ]
  },
  {
   "cell_type": "code",
   "execution_count": null,
   "metadata": {
    "id": "PiuJcuHciSCj"
   },
   "outputs": [],
   "source": [
    "\n",
    "# https://www.danielherediamejias.com/pagespeed-insights-api-with-python/"
   ]
  },
  {
   "cell_type": "code",
   "execution_count": null,
   "metadata": {
    "id": "5brNVsMLhXiF"
   },
   "outputs": [],
   "source": [
    "import pandas as pd\n",
    "import numpy as np\n",
    "import urllib.parse\n",
    "import urllib.request, json\n"
   ]
  },
  {
   "cell_type": "code",
   "execution_count": null,
   "metadata": {
    "id": "oW2FfPF3gjlQ"
   },
   "outputs": [],
   "source": [
    "escaped_url = urllib.parse.quote(page)\n",
    "strategy = 'mobile'\n",
    "key = 'XXXX'"
   ]
  },
  {
   "cell_type": "markdown",
   "metadata": {
    "id": "4Cm5Ib7EMxl1"
   },
   "source": [
    "## Constructing sample request"
   ]
  },
  {
   "cell_type": "code",
   "execution_count": null,
   "metadata": {
    "id": "Beo0BT0BhT8j"
   },
   "outputs": [],
   "source": [
    "# url = \"https://www.googleapis.com/pagespeedonline/v5/runPagespeed?url={}&strategy={}&key={}\".format(escaped_url,strategy,key)\n",
    "# #Note that you can insert your URL with the parameter URL and you can also modify the device parameter if you would like to get the data for desktop.\n",
    "# response = urllib.request.urlopen(url)\n",
    "# data = json.loads(response.read())  "
   ]
  },
  {
   "cell_type": "code",
   "execution_count": null,
   "metadata": {},
   "outputs": [],
   "source": [
    "# overall_score = data[\"lighthouseResult\"][\"categories\"][\"performance\"][\"score\"] * 100"
   ]
  },
  {
   "cell_type": "code",
   "execution_count": null,
   "metadata": {},
   "outputs": [],
   "source": [
    "# fcp_time = data[\"loadingExperience\"][\"metrics\"][\"FIRST_CONTENTFUL_PAINT_MS\"][\"percentile\"] #into seconds (/1000)\n",
    "# fid_time = data[\"loadingExperience\"][\"metrics\"][\"FIRST_INPUT_DELAY_MS\"][\"percentile\"] #into seconds (/1000)\n",
    "# lcp_time = data[\"loadingExperience\"][\"metrics\"][\"LARGEST_CONTENTFUL_PAINT_MS\"][\"percentile\"]\n",
    "# cls_time = data[\"loadingExperience\"][\"metrics\"][\"CUMULATIVE_LAYOUT_SHIFT_SCORE\"][\"percentile\"]/100\n"
   ]
  },
  {
   "cell_type": "code",
   "execution_count": null,
   "metadata": {},
   "outputs": [],
   "source": [
    "# fcp_score = data[\"loadingExperience\"][\"metrics\"][\"FIRST_CONTENTFUL_PAINT_MS\"][\"category\"]\n",
    "# fid_score = data[\"loadingExperience\"][\"metrics\"][\"FIRST_INPUT_DELAY_MS\"][\"category\"]\n",
    "# lcp_score = data[\"loadingExperience\"][\"metrics\"][\"LARGEST_CONTENTFUL_PAINT_MS\"][\"category\"]\n",
    "# cls_score = data[\"loadingExperience\"][\"metrics\"][\"CUMULATIVE_LAYOUT_SHIFT_SCORE\"][\"category\"]\n"
   ]
  },
  {
   "cell_type": "markdown",
   "metadata": {},
   "source": [
    "## Creating a function to call the api"
   ]
  },
  {
   "cell_type": "code",
   "execution_count": null,
   "metadata": {},
   "outputs": [],
   "source": [
    "def call_psi(page,strategy):\n",
    "    key = 'XXXX'\n",
    "    escaped_url = urllib.parse.quote(page)\n",
    "    url = \"https://www.googleapis.com/pagespeedonline/v5/runPagespeed?url={}&strategy={}&key={}\".format(escaped_url,strategy,key)\n",
    "    response = urllib.request.urlopen(url)\n",
    "    data = json.loads(response.read())\n",
    "    return(data)\n"
   ]
  },
  {
   "cell_type": "code",
   "execution_count": null,
   "metadata": {},
   "outputs": [],
   "source": [
    "# sample_page = \"https://www.yell.com/s/accountants-manchester.html\"\n",
    "# strategy = 'mobile'"
   ]
  },
  {
   "cell_type": "markdown",
   "metadata": {
    "id": "MJpONN4vMvUF"
   },
   "source": [
    "## Reading requests from a file"
   ]
  },
  {
   "cell_type": "code",
   "execution_count": null,
   "metadata": {},
   "outputs": [],
   "source": [
    "import time"
   ]
  },
  {
   "cell_type": "code",
   "execution_count": null,
   "metadata": {
    "id": "dF4xDFhtP0_Q"
   },
   "outputs": [],
   "source": [
    "df = pd.read_csv(\"spages.csv\")"
   ]
  },
  {
   "cell_type": "code",
   "execution_count": null,
   "metadata": {},
   "outputs": [],
   "source": [
    "# df"
   ]
  },
  {
   "cell_type": "markdown",
   "metadata": {},
   "source": [
    "### Iterating through the file"
   ]
  },
  {
   "cell_type": "code",
   "execution_count": null,
   "metadata": {},
   "outputs": [],
   "source": [
    "response_object = {}\n",
    "for i in range(0,len(df)):\n",
    "    try:\n",
    "        url = df.iloc[i]['URL']\n",
    "        device_type = df.iloc[i]['device_type']\n",
    "        #     print(f'{url},{device_type}'\n",
    "        contents_json = call_psi(url,device_type)\n",
    "        response_object[url] = contents_json\n",
    "        \n",
    "    except Exception as e:\n",
    "        print('Error:',e)\n",
    "        print('Returning error response for URL', url)\n"
   ]
  },
  {
   "cell_type": "code",
   "execution_count": null,
   "metadata": {},
   "outputs": [],
   "source": [
    "# len(response_object)"
   ]
  },
  {
   "cell_type": "code",
   "execution_count": null,
   "metadata": {},
   "outputs": [],
   "source": [
    "# response_object.keys()"
   ]
  },
  {
   "cell_type": "markdown",
   "metadata": {},
   "source": [
    "## Storing API response in a list"
   ]
  },
  {
   "cell_type": "code",
   "execution_count": null,
   "metadata": {},
   "outputs": [],
   "source": [
    "response_list = []\n",
    "for l in response_object.keys():\n",
    "    overall_score = response_object[l][\"lighthouseResult\"][\"categories\"][\"performance\"][\"score\"] * 100\n",
    "    fcp_time = response_object[l][\"loadingExperience\"][\"metrics\"][\"FIRST_CONTENTFUL_PAINT_MS\"][\"percentile\"] #into seconds (/1000)\n",
    "    fid_time = response_object[l][\"loadingExperience\"][\"metrics\"][\"FIRST_INPUT_DELAY_MS\"][\"percentile\"] #into seconds (/1000)\n",
    "    lcp_time = response_object[l][\"loadingExperience\"][\"metrics\"][\"LARGEST_CONTENTFUL_PAINT_MS\"][\"percentile\"]\n",
    "    cls_time = response_object[l][\"loadingExperience\"][\"metrics\"][\"CUMULATIVE_LAYOUT_SHIFT_SCORE\"][\"percentile\"]/100\n",
    "  \n",
    "    print(l,overall_score,fcp_time,fid_time,lcp_time,cls_time)\n",
    "    response_list.append([l,overall_score,fcp_time,fid_time,lcp_time,cls_time])"
   ]
  },
  {
   "cell_type": "code",
   "execution_count": null,
   "metadata": {},
   "outputs": [],
   "source": [
    "# response_list"
   ]
  },
  {
   "cell_type": "markdown",
   "metadata": {},
   "source": [
    "## Creating a Dataframe from the list of responses"
   ]
  },
  {
   "cell_type": "code",
   "execution_count": null,
   "metadata": {},
   "outputs": [],
   "source": [
    "response_df = pd.DataFrame(data=response_list,columns = ['URL','Overall_score','FCP_Time','FID_Time','LCP_Time','CLS_Time'])"
   ]
  },
  {
   "cell_type": "code",
   "execution_count": null,
   "metadata": {},
   "outputs": [],
   "source": [
    "# response_df"
   ]
  },
  {
   "cell_type": "markdown",
   "metadata": {},
   "source": [
    "## Appending Date column to the "
   ]
  },
  {
   "cell_type": "code",
   "execution_count": null,
   "metadata": {},
   "outputs": [],
   "source": [
    "response_df['Date'] = pd.to_datetime('now').normalize()\n",
    "response_df_refined = pd.DataFrame(data=response_df,columns=['Date','URL', 'Overall_score', 'FCP_Time', 'FID_Time', 'LCP_Time', 'CLS_Time'],)"
   ]
  },
  {
   "cell_type": "code",
   "execution_count": null,
   "metadata": {},
   "outputs": [],
   "source": [
    "response_df_refined"
   ]
  },
  {
   "cell_type": "markdown",
   "metadata": {},
   "source": [
    "## Uploading DataFrame into BigQuery Table"
   ]
  },
  {
   "cell_type": "code",
   "execution_count": null,
   "metadata": {},
   "outputs": [],
   "source": [
    "# !pip install pyarrow"
   ]
  },
  {
   "cell_type": "code",
   "execution_count": null,
   "metadata": {},
   "outputs": [],
   "source": [
    "import datetime\n",
    "from google.cloud import bigquery\n",
    "import pytz\n",
    "import os\n"
   ]
  },
  {
   "cell_type": "code",
   "execution_count": null,
   "metadata": {},
   "outputs": [],
   "source": [
    "os.environ[\"GOOGLE_APPLICATION_CREDENTIALS\"] = \"XXX.json\"\n"
   ]
  },
  {
   "cell_type": "code",
   "execution_count": null,
   "metadata": {},
   "outputs": [],
   "source": [
    "# Construct a BigQuery client object.\n",
    "client = bigquery.Client()\n"
   ]
  },
  {
   "cell_type": "code",
   "execution_count": null,
   "metadata": {},
   "outputs": [],
   "source": [
    "# TODO(developer): Set table_id to the ID of the table to create.\n",
    "table_id = \"XXXX\""
   ]
  },
  {
   "cell_type": "code",
   "execution_count": null,
   "metadata": {},
   "outputs": [],
   "source": [
    "job_config = bigquery.LoadJobConfig(\n",
    "    # Specify a (partial) schema. All columns are always written to the\n",
    "    # table. The schema is used to assist in data type definitions.\n",
    "    schema=[\n",
    "        # Specify the type of columns whose type cannot be auto-detected. For\n",
    "        # example the \"title\" column uses pandas dtype \"object\", so its\n",
    "        # data type is ambiguous.\n",
    "        bigquery.SchemaField(\"Date\", bigquery.enums.SqlTypeNames.DATE),\n",
    "        bigquery.SchemaField(\"URL\", bigquery.enums.SqlTypeNames.STRING),\n",
    "        bigquery.SchemaField(\"Overall_score\", bigquery.enums.SqlTypeNames.INTEGER),\n",
    "        bigquery.SchemaField(\"FCP_Time\", bigquery.enums.SqlTypeNames.INTEGER),\n",
    "        bigquery.SchemaField(\"FCP_Time\", bigquery.enums.SqlTypeNames.INTEGER),\n",
    "        bigquery.SchemaField(\"FID_Time\", bigquery.enums.SqlTypeNames.INTEGER),\n",
    "        bigquery.SchemaField(\"LCP_Time\", bigquery.enums.SqlTypeNames.INTEGER),\n",
    "        bigquery.SchemaField(\"CLS_Time\", bigquery.enums.SqlTypeNames.FLOAT),\n",
    "\n",
    "    ],\n",
    "#     # Optionally, set the write disposition. BigQuery appends loaded rows\n",
    "#     # to an existing table by default, but with WRITE_TRUNCATE write\n",
    "#     # disposition it replaces the table with the loaded data.\n",
    "#     write_disposition=\"WRITE_TRUNCATE\",\n",
    ")"
   ]
  },
  {
   "cell_type": "code",
   "execution_count": null,
   "metadata": {},
   "outputs": [],
   "source": [
    "job = client.load_table_from_dataframe(response_df_refined, table_id, job_config=job_config)  \n",
    "\n",
    "# Make an API request.\n",
    "job.result()  # Wait for the job to complete.\n",
    "\n",
    "table = client.get_table(table_id)  # Make an API request.\n",
    "print(\n",
    "    \"Loaded {} rows and {} columns to {}\".format(\n",
    "        table.num_rows, len(table.schema), table_id\n",
    "    )\n",
    ")"
   ]
  },
  {
   "cell_type": "code",
   "execution_count": null,
   "metadata": {},
   "outputs": [],
   "source": []
  },
  {
   "cell_type": "code",
   "execution_count": null,
   "metadata": {},
   "outputs": [],
   "source": []
  }
 ],
 "metadata": {
  "colab": {
   "authorship_tag": "ABX9TyNkmy86/19N85PwfUBaCBSC",
   "collapsed_sections": [],
   "include_colab_link": true,
   "mount_file_id": "1xJk8aDK6GFd3Lz4LwZ0Ws703pqrGyeUv",
   "name": "psi-auto.ipynb",
   "provenance": [],
   "toc_visible": true
  },
  "kernelspec": {
   "display_name": "Python 3",
   "language": "python",
   "name": "python3"
  },
  "language_info": {
   "codemirror_mode": {
    "name": "ipython",
    "version": 3
   },
   "file_extension": ".py",
   "mimetype": "text/x-python",
   "name": "python",
   "nbconvert_exporter": "python",
   "pygments_lexer": "ipython3",
   "version": "3.7.4"
  }
 },
 "nbformat": 4,
 "nbformat_minor": 4
}
